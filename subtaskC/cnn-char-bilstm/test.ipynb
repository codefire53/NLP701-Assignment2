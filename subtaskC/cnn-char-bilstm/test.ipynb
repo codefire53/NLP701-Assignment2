{
 "cells": [
  {
   "cell_type": "code",
   "execution_count": 1,
   "metadata": {},
   "outputs": [
    {
     "data": {
      "text/html": [
       "<div>\n",
       "<style scoped>\n",
       "    .dataframe tbody tr th:only-of-type {\n",
       "        vertical-align: middle;\n",
       "    }\n",
       "\n",
       "    .dataframe tbody tr th {\n",
       "        vertical-align: top;\n",
       "    }\n",
       "\n",
       "    .dataframe thead th {\n",
       "        text-align: right;\n",
       "    }\n",
       "</style>\n",
       "<table border=\"1\" class=\"dataframe\">\n",
       "  <thead>\n",
       "    <tr style=\"text-align: right;\">\n",
       "      <th></th>\n",
       "      <th>id</th>\n",
       "      <th>text</th>\n",
       "      <th>label</th>\n",
       "    </tr>\n",
       "  </thead>\n",
       "  <tbody>\n",
       "    <tr>\n",
       "      <th>0</th>\n",
       "      <td>5df7a120-f5ff-4881-8624-058f8a2fee5a</td>\n",
       "      <td>- Strengths:\\r\\n* Outperforms ALIGN in supervi...</td>\n",
       "      <td>88</td>\n",
       "    </tr>\n",
       "    <tr>\n",
       "      <th>1</th>\n",
       "      <td>063f9429-b94b-4e86-bd4c-c48e9bf85850</td>\n",
       "      <td>This paper addresses the problem of disambigua...</td>\n",
       "      <td>286</td>\n",
       "    </tr>\n",
       "    <tr>\n",
       "      <th>2</th>\n",
       "      <td>2759de87-3708-4f81-9e5f-ed132c292d2f</td>\n",
       "      <td>- Strengths:\\r\\nGood ideas, simple neural lear...</td>\n",
       "      <td>62</td>\n",
       "    </tr>\n",
       "    <tr>\n",
       "      <th>3</th>\n",
       "      <td>25ef7554-db90-4212-b218-06679b25efb8</td>\n",
       "      <td>This paper presents several weakly supervised ...</td>\n",
       "      <td>35</td>\n",
       "    </tr>\n",
       "    <tr>\n",
       "      <th>4</th>\n",
       "      <td>8b51f390-6552-4982-b5d4-1b165e598df1</td>\n",
       "      <td>This paper describes a model for cross-lingual...</td>\n",
       "      <td>98</td>\n",
       "    </tr>\n",
       "  </tbody>\n",
       "</table>\n",
       "</div>"
      ],
      "text/plain": [
       "                                     id  \\\n",
       "0  5df7a120-f5ff-4881-8624-058f8a2fee5a   \n",
       "1  063f9429-b94b-4e86-bd4c-c48e9bf85850   \n",
       "2  2759de87-3708-4f81-9e5f-ed132c292d2f   \n",
       "3  25ef7554-db90-4212-b218-06679b25efb8   \n",
       "4  8b51f390-6552-4982-b5d4-1b165e598df1   \n",
       "\n",
       "                                                text  label  \n",
       "0  - Strengths:\\r\\n* Outperforms ALIGN in supervi...     88  \n",
       "1  This paper addresses the problem of disambigua...    286  \n",
       "2  - Strengths:\\r\\nGood ideas, simple neural lear...     62  \n",
       "3  This paper presents several weakly supervised ...     35  \n",
       "4  This paper describes a model for cross-lingual...     98  "
      ]
     },
     "execution_count": 1,
     "metadata": {},
     "output_type": "execute_result"
    }
   ],
   "source": [
    "import pandas as pd\n",
    "\n",
    "df = pd.read_json('../subtaskC_train.jsonl', lines=True, orient='records')\n",
    "df.head()"
   ]
  },
  {
   "cell_type": "code",
   "execution_count": 2,
   "metadata": {},
   "outputs": [
    {
     "data": {
      "text/plain": [
       "0       - Strengths:\\r\\n* Outperforms ALIGN in supervi...\n",
       "1       This paper addresses the problem of disambigua...\n",
       "2       - Strengths:\\r\\nGood ideas, simple neural lear...\n",
       "3       This paper presents several weakly supervised ...\n",
       "4       This paper describes a model for cross-lingual...\n",
       "                              ...                        \n",
       "3644    The paper presents a novel method for reducing...\n",
       "3645    This paper addresses to reduce test-time compu...\n",
       "3646    I do need to see the results in a clear table....\n",
       "3647    This paper explores a new quantization method ...\n",
       "3648    .The paper presents a novel method for reducin...\n",
       "Name: text, Length: 3649, dtype: object"
      ]
     },
     "execution_count": 2,
     "metadata": {},
     "output_type": "execute_result"
    }
   ],
   "source": [
    "df['text']"
   ]
  },
  {
   "cell_type": "code",
   "execution_count": 4,
   "metadata": {},
   "outputs": [
    {
     "data": {
      "text/html": [
       "<div>\n",
       "<style scoped>\n",
       "    .dataframe tbody tr th:only-of-type {\n",
       "        vertical-align: middle;\n",
       "    }\n",
       "\n",
       "    .dataframe tbody tr th {\n",
       "        vertical-align: top;\n",
       "    }\n",
       "\n",
       "    .dataframe thead th {\n",
       "        text-align: right;\n",
       "    }\n",
       "</style>\n",
       "<table border=\"1\" class=\"dataframe\">\n",
       "  <thead>\n",
       "    <tr style=\"text-align: right;\">\n",
       "      <th></th>\n",
       "      <th>label</th>\n",
       "    </tr>\n",
       "  </thead>\n",
       "  <tbody>\n",
       "    <tr>\n",
       "      <th>count</th>\n",
       "      <td>3649.000000</td>\n",
       "    </tr>\n",
       "    <tr>\n",
       "      <th>mean</th>\n",
       "      <td>71.456289</td>\n",
       "    </tr>\n",
       "    <tr>\n",
       "      <th>std</th>\n",
       "      <td>71.515904</td>\n",
       "    </tr>\n",
       "    <tr>\n",
       "      <th>min</th>\n",
       "      <td>0.000000</td>\n",
       "    </tr>\n",
       "    <tr>\n",
       "      <th>25%</th>\n",
       "      <td>22.000000</td>\n",
       "    </tr>\n",
       "    <tr>\n",
       "      <th>50%</th>\n",
       "      <td>51.000000</td>\n",
       "    </tr>\n",
       "    <tr>\n",
       "      <th>75%</th>\n",
       "      <td>99.000000</td>\n",
       "    </tr>\n",
       "    <tr>\n",
       "      <th>max</th>\n",
       "      <td>755.000000</td>\n",
       "    </tr>\n",
       "  </tbody>\n",
       "</table>\n",
       "</div>"
      ],
      "text/plain": [
       "             label\n",
       "count  3649.000000\n",
       "mean     71.456289\n",
       "std      71.515904\n",
       "min       0.000000\n",
       "25%      22.000000\n",
       "50%      51.000000\n",
       "75%      99.000000\n",
       "max     755.000000"
      ]
     },
     "execution_count": 4,
     "metadata": {},
     "output_type": "execute_result"
    }
   ],
   "source": [
    "df.describe()"
   ]
  }
 ],
 "metadata": {
  "kernelspec": {
   "display_name": "AI-701_Assignment-2",
   "language": "python",
   "name": "python3"
  },
  "language_info": {
   "codemirror_mode": {
    "name": "ipython",
    "version": 3
   },
   "file_extension": ".py",
   "mimetype": "text/x-python",
   "name": "python",
   "nbconvert_exporter": "python",
   "pygments_lexer": "ipython3",
   "version": "3.11.0"
  }
 },
 "nbformat": 4,
 "nbformat_minor": 2
}
